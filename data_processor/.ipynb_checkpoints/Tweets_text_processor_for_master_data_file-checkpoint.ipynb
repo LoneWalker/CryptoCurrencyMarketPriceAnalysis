{
 "cells": [
  {
   "cell_type": "code",
   "execution_count": 1,
   "metadata": {
    "collapsed": true
   },
   "outputs": [],
   "source": [
    "import glob\n",
    "import json\n",
    "import nltk\n",
    "from nltk.tokenize import word_tokenize\n",
    "from nltk.corpus import stopwords\n",
    "import string\n",
    "import re\n",
    "import operator \n",
    "from collections import Counter\n",
    "from nltk import bigrams\n",
    "import pandas as pd\n",
    "import csv\n",
    "import unicodecsv\n",
    "from os import listdir\n",
    "from os.path import isfile, join\n",
    "import glob\n",
    "import wordcloud\n",
    "import matplotlib.pyplot as plt\n",
    "import numpy as np"
   ]
  },
  {
   "cell_type": "code",
   "execution_count": 3,
   "metadata": {},
   "outputs": [
    {
     "data": {
      "text/plain": [
       "'full_DataFrame/combined_data/texts_data/'"
      ]
     },
     "execution_count": 3,
     "metadata": {},
     "output_type": "execute_result"
    }
   ],
   "source": [
    "path = \"full_DataFrame/combined_data/texts_data/\"\n",
    "path"
   ]
  },
  {
   "cell_type": "code",
   "execution_count": 4,
   "metadata": {
    "scrolled": false
   },
   "outputs": [
    {
     "data": {
      "text/html": [
       "<div>\n",
       "<style>\n",
       "    .dataframe thead tr:only-child th {\n",
       "        text-align: right;\n",
       "    }\n",
       "\n",
       "    .dataframe thead th {\n",
       "        text-align: left;\n",
       "    }\n",
       "\n",
       "    .dataframe tbody tr th {\n",
       "        vertical-align: top;\n",
       "    }\n",
       "</style>\n",
       "<table border=\"1\" class=\"dataframe\">\n",
       "  <thead>\n",
       "    <tr style=\"text-align: right;\">\n",
       "      <th></th>\n",
       "      <th>id</th>\n",
       "      <th>created_at</th>\n",
       "      <th>text</th>\n",
       "      <th>favorite_count</th>\n",
       "      <th>retweet_count</th>\n",
       "    </tr>\n",
       "  </thead>\n",
       "  <tbody>\n",
       "    <tr>\n",
       "      <th>0</th>\n",
       "      <td>9.635508e+17</td>\n",
       "      <td>Tue Feb 13 23:09:37 +0000 2018</td>\n",
       "      <td>@cripto_miners Bitcoin Gold (BTG) is gaining p...</td>\n",
       "      <td>0.0</td>\n",
       "      <td>0.0</td>\n",
       "    </tr>\n",
       "    <tr>\n",
       "      <th>1</th>\n",
       "      <td>9.635508e+17</td>\n",
       "      <td>Tue Feb 13 23:09:38 +0000 2018</td>\n",
       "      <td>@Soc_Currency Successfully launch mainnet and ...</td>\n",
       "      <td>0.0</td>\n",
       "      <td>0.0</td>\n",
       "    </tr>\n",
       "    <tr>\n",
       "      <th>2</th>\n",
       "      <td>9.635508e+17</td>\n",
       "      <td>Tue Feb 13 23:09:38 +0000 2018</td>\n",
       "      <td>I don’t like #Ripple but I for sure am bullish...</td>\n",
       "      <td>0.0</td>\n",
       "      <td>0.0</td>\n",
       "    </tr>\n",
       "    <tr>\n",
       "      <th>3</th>\n",
       "      <td>9.635508e+17</td>\n",
       "      <td>Tue Feb 13 23:09:38 +0000 2018</td>\n",
       "      <td>RT @kucoincon_us: @kucoincom @covesting We're ...</td>\n",
       "      <td>0.0</td>\n",
       "      <td>0.0</td>\n",
       "    </tr>\n",
       "    <tr>\n",
       "      <th>4</th>\n",
       "      <td>9.635508e+17</td>\n",
       "      <td>Tue Feb 13 23:09:38 +0000 2018</td>\n",
       "      <td>New Airdrop https://t.co/CExaAFiCiN\\n#Airdrop ...</td>\n",
       "      <td>0.0</td>\n",
       "      <td>0.0</td>\n",
       "    </tr>\n",
       "  </tbody>\n",
       "</table>\n",
       "</div>"
      ],
      "text/plain": [
       "             id                      created_at  \\\n",
       "0  9.635508e+17  Tue Feb 13 23:09:37 +0000 2018   \n",
       "1  9.635508e+17  Tue Feb 13 23:09:38 +0000 2018   \n",
       "2  9.635508e+17  Tue Feb 13 23:09:38 +0000 2018   \n",
       "3  9.635508e+17  Tue Feb 13 23:09:38 +0000 2018   \n",
       "4  9.635508e+17  Tue Feb 13 23:09:38 +0000 2018   \n",
       "\n",
       "                                                text  favorite_count  \\\n",
       "0  @cripto_miners Bitcoin Gold (BTG) is gaining p...             0.0   \n",
       "1  @Soc_Currency Successfully launch mainnet and ...             0.0   \n",
       "2  I don’t like #Ripple but I for sure am bullish...             0.0   \n",
       "3  RT @kucoincon_us: @kucoincom @covesting We're ...             0.0   \n",
       "4  New Airdrop https://t.co/CExaAFiCiN\\n#Airdrop ...             0.0   \n",
       "\n",
       "   retweet_count  \n",
       "0            0.0  \n",
       "1            0.0  \n",
       "2            0.0  \n",
       "3            0.0  \n",
       "4            0.0  "
      ]
     },
     "execution_count": 4,
     "metadata": {},
     "output_type": "execute_result"
    }
   ],
   "source": [
    "df = pd.read_msgpack(path+\"all_tweets.msg\")\n",
    "df.head()"
   ]
  },
  {
   "cell_type": "code",
   "execution_count": 5,
   "metadata": {},
   "outputs": [
    {
     "data": {
      "text/plain": [
       "(6406528, 5)"
      ]
     },
     "execution_count": 5,
     "metadata": {},
     "output_type": "execute_result"
    }
   ],
   "source": [
    "df.shape"
   ]
  },
  {
   "cell_type": "code",
   "execution_count": 6,
   "metadata": {
    "collapsed": true
   },
   "outputs": [],
   "source": [
    "# converting to date to pd date time\n",
    "df['created_at'] = pd.to_datetime(df['created_at'])"
   ]
  },
  {
   "cell_type": "code",
   "execution_count": 7,
   "metadata": {},
   "outputs": [
    {
     "data": {
      "text/plain": [
       "pandas.core.series.Series"
      ]
     },
     "execution_count": 7,
     "metadata": {},
     "output_type": "execute_result"
    }
   ],
   "source": [
    "type(df['created_at'])"
   ]
  },
  {
   "cell_type": "code",
   "execution_count": 10,
   "metadata": {},
   "outputs": [
    {
     "data": {
      "text/html": [
       "<div>\n",
       "<style>\n",
       "    .dataframe thead tr:only-child th {\n",
       "        text-align: right;\n",
       "    }\n",
       "\n",
       "    .dataframe thead th {\n",
       "        text-align: left;\n",
       "    }\n",
       "\n",
       "    .dataframe tbody tr th {\n",
       "        vertical-align: top;\n",
       "    }\n",
       "</style>\n",
       "<table border=\"1\" class=\"dataframe\">\n",
       "  <thead>\n",
       "    <tr style=\"text-align: right;\">\n",
       "      <th></th>\n",
       "      <th>id</th>\n",
       "      <th>created_at</th>\n",
       "      <th>text</th>\n",
       "      <th>favorite_count</th>\n",
       "      <th>retweet_count</th>\n",
       "    </tr>\n",
       "  </thead>\n",
       "  <tbody>\n",
       "    <tr>\n",
       "      <th>0</th>\n",
       "      <td>9.635508e+17</td>\n",
       "      <td>2018-02-13 23:09:37</td>\n",
       "      <td>@cripto_miners Bitcoin Gold (BTG) is gaining p...</td>\n",
       "      <td>0.0</td>\n",
       "      <td>0.0</td>\n",
       "    </tr>\n",
       "    <tr>\n",
       "      <th>1</th>\n",
       "      <td>9.635508e+17</td>\n",
       "      <td>2018-02-13 23:09:38</td>\n",
       "      <td>@Soc_Currency Successfully launch mainnet and ...</td>\n",
       "      <td>0.0</td>\n",
       "      <td>0.0</td>\n",
       "    </tr>\n",
       "    <tr>\n",
       "      <th>2</th>\n",
       "      <td>9.635508e+17</td>\n",
       "      <td>2018-02-13 23:09:38</td>\n",
       "      <td>I don’t like #Ripple but I for sure am bullish...</td>\n",
       "      <td>0.0</td>\n",
       "      <td>0.0</td>\n",
       "    </tr>\n",
       "    <tr>\n",
       "      <th>3</th>\n",
       "      <td>9.635508e+17</td>\n",
       "      <td>2018-02-13 23:09:38</td>\n",
       "      <td>RT @kucoincon_us: @kucoincom @covesting We're ...</td>\n",
       "      <td>0.0</td>\n",
       "      <td>0.0</td>\n",
       "    </tr>\n",
       "    <tr>\n",
       "      <th>4</th>\n",
       "      <td>9.635508e+17</td>\n",
       "      <td>2018-02-13 23:09:38</td>\n",
       "      <td>New Airdrop https://t.co/CExaAFiCiN\\n#Airdrop ...</td>\n",
       "      <td>0.0</td>\n",
       "      <td>0.0</td>\n",
       "    </tr>\n",
       "  </tbody>\n",
       "</table>\n",
       "</div>"
      ],
      "text/plain": [
       "             id          created_at  \\\n",
       "0  9.635508e+17 2018-02-13 23:09:37   \n",
       "1  9.635508e+17 2018-02-13 23:09:38   \n",
       "2  9.635508e+17 2018-02-13 23:09:38   \n",
       "3  9.635508e+17 2018-02-13 23:09:38   \n",
       "4  9.635508e+17 2018-02-13 23:09:38   \n",
       "\n",
       "                                                text  favorite_count  \\\n",
       "0  @cripto_miners Bitcoin Gold (BTG) is gaining p...             0.0   \n",
       "1  @Soc_Currency Successfully launch mainnet and ...             0.0   \n",
       "2  I don’t like #Ripple but I for sure am bullish...             0.0   \n",
       "3  RT @kucoincon_us: @kucoincom @covesting We're ...             0.0   \n",
       "4  New Airdrop https://t.co/CExaAFiCiN\\n#Airdrop ...             0.0   \n",
       "\n",
       "   retweet_count  \n",
       "0            0.0  \n",
       "1            0.0  \n",
       "2            0.0  \n",
       "3            0.0  \n",
       "4            0.0  "
      ]
     },
     "execution_count": 10,
     "metadata": {},
     "output_type": "execute_result"
    }
   ],
   "source": [
    "df.head()"
   ]
  },
  {
   "cell_type": "code",
   "execution_count": 9,
   "metadata": {},
   "outputs": [
    {
     "name": "stdout",
     "output_type": "stream",
     "text": [
      "2018-02-13 23:09:37\n",
      "2018-03-03 08:42:41\n"
     ]
    }
   ],
   "source": [
    "print(df.created_at.min())\n",
    "print(df.created_at.max())"
   ]
  },
  {
   "cell_type": "code",
   "execution_count": 11,
   "metadata": {
    "collapsed": true
   },
   "outputs": [],
   "source": [
    "mask = (df['created_at'] > '2018-02-26 02:55:00') & (df['created_at'] <= '2018-03-03 08:43:41')\n",
    "# print(df.loc[mask])"
   ]
  },
  {
   "cell_type": "code",
   "execution_count": 12,
   "metadata": {
    "collapsed": true
   },
   "outputs": [],
   "source": [
    "masked = df.loc[mask]"
   ]
  },
  {
   "cell_type": "code",
   "execution_count": 3,
   "metadata": {
    "scrolled": true
   },
   "outputs": [
    {
     "name": "stdout",
     "output_type": "stream",
     "text": [
      "2018-02-27 05:06:02\n",
      "2018-03-03 08:42:41\n"
     ]
    }
   ],
   "source": [
    "print(masked.created_at.min())\n",
    "print(masked.created_at.max())"
   ]
  },
  {
   "cell_type": "code",
   "execution_count": 39,
   "metadata": {},
   "outputs": [
    {
     "data": {
      "text/plain": [
       "(2067946, 5)"
      ]
     },
     "execution_count": 39,
     "metadata": {},
     "output_type": "execute_result"
    }
   ],
   "source": [
    "masked.shape"
   ]
  },
  {
   "cell_type": "code",
   "execution_count": 2,
   "metadata": {
    "collapsed": true
   },
   "outputs": [],
   "source": [
    "masked.to_msgpack(\"full_DataFrame/combined_data/master/data_tweets_min.msg\")"
   ]
  },
  {
   "cell_type": "code",
   "execution_count": 6,
   "metadata": {
    "collapsed": true,
    "scrolled": true
   },
   "outputs": [],
   "source": [
    "# masked['RT'] = np.where(masked['id'], 0, 0)"
   ]
  },
  {
   "cell_type": "code",
   "execution_count": 7,
   "metadata": {
    "collapsed": true,
    "scrolled": true
   },
   "outputs": [],
   "source": [
    "masked = masked.reset_index()"
   ]
  },
  {
   "cell_type": "code",
   "execution_count": 8,
   "metadata": {},
   "outputs": [
    {
     "data": {
      "text/plain": [
       "str"
      ]
     },
     "execution_count": 8,
     "metadata": {},
     "output_type": "execute_result"
    }
   ],
   "source": [
    "type(masked['text'][0])"
   ]
  },
  {
   "cell_type": "code",
   "execution_count": null,
   "metadata": {
    "collapsed": true
   },
   "outputs": [],
   "source": [
    "# if \"RT\" in masked['text'][1]:\n",
    "#     print(\"1\")"
   ]
  },
  {
   "cell_type": "code",
   "execution_count": 14,
   "metadata": {
    "collapsed": true
   },
   "outputs": [],
   "source": [
    "# df = pd.DataFrame([\"BULL\",\"BEAR\",\"BULL\"], columns=['A'])\n",
    "masked[\"RT\"] = [1 if \"RT\" in ele else 0 for ele in masked[\"text\"]]"
   ]
  },
  {
   "cell_type": "code",
   "execution_count": 16,
   "metadata": {
    "collapsed": true
   },
   "outputs": [],
   "source": [
    "masked.set_index('created_at', inplace=True)"
   ]
  },
  {
   "cell_type": "code",
   "execution_count": 17,
   "metadata": {},
   "outputs": [
    {
     "data": {
      "text/html": [
       "<div>\n",
       "<style>\n",
       "    .dataframe thead tr:only-child th {\n",
       "        text-align: right;\n",
       "    }\n",
       "\n",
       "    .dataframe thead th {\n",
       "        text-align: left;\n",
       "    }\n",
       "\n",
       "    .dataframe tbody tr th {\n",
       "        vertical-align: top;\n",
       "    }\n",
       "</style>\n",
       "<table border=\"1\" class=\"dataframe\">\n",
       "  <thead>\n",
       "    <tr style=\"text-align: right;\">\n",
       "      <th></th>\n",
       "      <th>id</th>\n",
       "      <th>text</th>\n",
       "      <th>favorite_count</th>\n",
       "      <th>retweet_count</th>\n",
       "      <th>RT</th>\n",
       "    </tr>\n",
       "    <tr>\n",
       "      <th>created_at</th>\n",
       "      <th></th>\n",
       "      <th></th>\n",
       "      <th></th>\n",
       "      <th></th>\n",
       "      <th></th>\n",
       "    </tr>\n",
       "  </thead>\n",
       "  <tbody>\n",
       "    <tr>\n",
       "      <th>2018-02-27 05:06:02</th>\n",
       "      <td>9.683515e+17</td>\n",
       "      <td>BITCOIN! Gold Plated Physical Bitcoin Collecto...</td>\n",
       "      <td>0.0</td>\n",
       "      <td>0.0</td>\n",
       "      <td>0</td>\n",
       "    </tr>\n",
       "    <tr>\n",
       "      <th>2018-02-27 05:06:03</th>\n",
       "      <td>9.683515e+17</td>\n",
       "      <td>RT @velixID: Here are the key features of #Vel...</td>\n",
       "      <td>0.0</td>\n",
       "      <td>0.0</td>\n",
       "      <td>1</td>\n",
       "    </tr>\n",
       "    <tr>\n",
       "      <th>2018-02-27 05:06:03</th>\n",
       "      <td>9.683515e+17</td>\n",
       "      <td>I think that #smokenetwork is going to take ov...</td>\n",
       "      <td>0.0</td>\n",
       "      <td>0.0</td>\n",
       "      <td>0</td>\n",
       "    </tr>\n",
       "    <tr>\n",
       "      <th>2018-02-27 05:06:04</th>\n",
       "      <td>9.683515e+17</td>\n",
       "      <td>RT @BitcoinWSpectrm: AIRDROP ALERT\\nWe are giv...</td>\n",
       "      <td>0.0</td>\n",
       "      <td>0.0</td>\n",
       "      <td>1</td>\n",
       "    </tr>\n",
       "    <tr>\n",
       "      <th>2018-02-27 05:06:04</th>\n",
       "      <td>9.683515e+17</td>\n",
       "      <td>Fake Satoshi Accused of Stealing $10bn in BTC ...</td>\n",
       "      <td>0.0</td>\n",
       "      <td>0.0</td>\n",
       "      <td>0</td>\n",
       "    </tr>\n",
       "  </tbody>\n",
       "</table>\n",
       "</div>"
      ],
      "text/plain": [
       "                               id  \\\n",
       "created_at                          \n",
       "2018-02-27 05:06:02  9.683515e+17   \n",
       "2018-02-27 05:06:03  9.683515e+17   \n",
       "2018-02-27 05:06:03  9.683515e+17   \n",
       "2018-02-27 05:06:04  9.683515e+17   \n",
       "2018-02-27 05:06:04  9.683515e+17   \n",
       "\n",
       "                                                                  text  \\\n",
       "created_at                                                               \n",
       "2018-02-27 05:06:02  BITCOIN! Gold Plated Physical Bitcoin Collecto...   \n",
       "2018-02-27 05:06:03  RT @velixID: Here are the key features of #Vel...   \n",
       "2018-02-27 05:06:03  I think that #smokenetwork is going to take ov...   \n",
       "2018-02-27 05:06:04  RT @BitcoinWSpectrm: AIRDROP ALERT\\nWe are giv...   \n",
       "2018-02-27 05:06:04  Fake Satoshi Accused of Stealing $10bn in BTC ...   \n",
       "\n",
       "                     favorite_count  retweet_count  RT  \n",
       "created_at                                              \n",
       "2018-02-27 05:06:02             0.0            0.0   0  \n",
       "2018-02-27 05:06:03             0.0            0.0   1  \n",
       "2018-02-27 05:06:03             0.0            0.0   0  \n",
       "2018-02-27 05:06:04             0.0            0.0   1  \n",
       "2018-02-27 05:06:04             0.0            0.0   0  "
      ]
     },
     "execution_count": 17,
     "metadata": {},
     "output_type": "execute_result"
    }
   ],
   "source": [
    "masked.head()"
   ]
  },
  {
   "cell_type": "code",
   "execution_count": 18,
   "metadata": {
    "collapsed": true
   },
   "outputs": [],
   "source": [
    "def f(x):\n",
    "     return pd.Series(dict(retweet_counts = x['RT'].sum(),\n",
    "                        text = \"{%s}\" % ' '.join(x['text'])))\n",
    "\n",
    "text_df = masked.groupby(pd.TimeGrouper('2Min')).apply(f)"
   ]
  },
  {
   "cell_type": "code",
   "execution_count": 19,
   "metadata": {},
   "outputs": [
    {
     "data": {
      "text/html": [
       "<div>\n",
       "<style>\n",
       "    .dataframe thead tr:only-child th {\n",
       "        text-align: right;\n",
       "    }\n",
       "\n",
       "    .dataframe thead th {\n",
       "        text-align: left;\n",
       "    }\n",
       "\n",
       "    .dataframe tbody tr th {\n",
       "        vertical-align: top;\n",
       "    }\n",
       "</style>\n",
       "<table border=\"1\" class=\"dataframe\">\n",
       "  <thead>\n",
       "    <tr style=\"text-align: right;\">\n",
       "      <th></th>\n",
       "      <th>retweet_counts</th>\n",
       "      <th>text</th>\n",
       "    </tr>\n",
       "    <tr>\n",
       "      <th>created_at</th>\n",
       "      <th></th>\n",
       "      <th></th>\n",
       "    </tr>\n",
       "  </thead>\n",
       "  <tbody>\n",
       "    <tr>\n",
       "      <th>2018-02-27 05:06:00</th>\n",
       "      <td>285</td>\n",
       "      <td>{BITCOIN! Gold Plated Physical Bitcoin Collect...</td>\n",
       "    </tr>\n",
       "    <tr>\n",
       "      <th>2018-02-27 05:08:00</th>\n",
       "      <td>280</td>\n",
       "      <td>{RT @MalwareJake: Dear web developers,\\nThe an...</td>\n",
       "    </tr>\n",
       "    <tr>\n",
       "      <th>2018-02-27 05:10:00</th>\n",
       "      <td>312</td>\n",
       "      <td>{@Crypto_Bossman My favorite cryptocurrency ex...</td>\n",
       "    </tr>\n",
       "    <tr>\n",
       "      <th>2018-02-27 05:12:00</th>\n",
       "      <td>280</td>\n",
       "      <td>{I should have asked @VitalikButerin why use E...</td>\n",
       "    </tr>\n",
       "    <tr>\n",
       "      <th>2018-02-27 05:14:00</th>\n",
       "      <td>317</td>\n",
       "      <td>{RT @ViceToken: Why Watch Porn for Free, when ...</td>\n",
       "    </tr>\n",
       "  </tbody>\n",
       "</table>\n",
       "</div>"
      ],
      "text/plain": [
       "                     retweet_counts  \\\n",
       "created_at                            \n",
       "2018-02-27 05:06:00             285   \n",
       "2018-02-27 05:08:00             280   \n",
       "2018-02-27 05:10:00             312   \n",
       "2018-02-27 05:12:00             280   \n",
       "2018-02-27 05:14:00             317   \n",
       "\n",
       "                                                                  text  \n",
       "created_at                                                              \n",
       "2018-02-27 05:06:00  {BITCOIN! Gold Plated Physical Bitcoin Collect...  \n",
       "2018-02-27 05:08:00  {RT @MalwareJake: Dear web developers,\\nThe an...  \n",
       "2018-02-27 05:10:00  {@Crypto_Bossman My favorite cryptocurrency ex...  \n",
       "2018-02-27 05:12:00  {I should have asked @VitalikButerin why use E...  \n",
       "2018-02-27 05:14:00  {RT @ViceToken: Why Watch Porn for Free, when ...  "
      ]
     },
     "execution_count": 19,
     "metadata": {},
     "output_type": "execute_result"
    }
   ],
   "source": [
    "text_df.head()"
   ]
  },
  {
   "cell_type": "code",
   "execution_count": 20,
   "metadata": {
    "collapsed": true
   },
   "outputs": [],
   "source": [
    "text_df2 = masked.groupby(pd.TimeGrouper('5Min')).apply(f)"
   ]
  },
  {
   "cell_type": "code",
   "execution_count": 21,
   "metadata": {
    "scrolled": false
   },
   "outputs": [
    {
     "name": "stdout",
     "output_type": "stream",
     "text": [
      "2989\n",
      "1196\n"
     ]
    }
   ],
   "source": [
    "print(len(text_df))\n",
    "print(len(text_df2))"
   ]
  },
  {
   "cell_type": "code",
   "execution_count": 22,
   "metadata": {
    "scrolled": true
   },
   "outputs": [
    {
     "data": {
      "text/html": [
       "<div>\n",
       "<style>\n",
       "    .dataframe thead tr:only-child th {\n",
       "        text-align: right;\n",
       "    }\n",
       "\n",
       "    .dataframe thead th {\n",
       "        text-align: left;\n",
       "    }\n",
       "\n",
       "    .dataframe tbody tr th {\n",
       "        vertical-align: top;\n",
       "    }\n",
       "</style>\n",
       "<table border=\"1\" class=\"dataframe\">\n",
       "  <thead>\n",
       "    <tr style=\"text-align: right;\">\n",
       "      <th></th>\n",
       "      <th>retweet_counts</th>\n",
       "      <th>text</th>\n",
       "    </tr>\n",
       "    <tr>\n",
       "      <th>created_at</th>\n",
       "      <th></th>\n",
       "      <th></th>\n",
       "    </tr>\n",
       "  </thead>\n",
       "  <tbody>\n",
       "    <tr>\n",
       "      <th>2018-02-27 05:06:00</th>\n",
       "      <td>285</td>\n",
       "      <td>{BITCOIN! Gold Plated Physical Bitcoin Collect...</td>\n",
       "    </tr>\n",
       "    <tr>\n",
       "      <th>2018-02-27 05:08:00</th>\n",
       "      <td>280</td>\n",
       "      <td>{RT @MalwareJake: Dear web developers,\\nThe an...</td>\n",
       "    </tr>\n",
       "    <tr>\n",
       "      <th>2018-02-27 05:10:00</th>\n",
       "      <td>312</td>\n",
       "      <td>{@Crypto_Bossman My favorite cryptocurrency ex...</td>\n",
       "    </tr>\n",
       "    <tr>\n",
       "      <th>2018-02-27 05:12:00</th>\n",
       "      <td>280</td>\n",
       "      <td>{I should have asked @VitalikButerin why use E...</td>\n",
       "    </tr>\n",
       "    <tr>\n",
       "      <th>2018-02-27 05:14:00</th>\n",
       "      <td>317</td>\n",
       "      <td>{RT @ViceToken: Why Watch Porn for Free, when ...</td>\n",
       "    </tr>\n",
       "    <tr>\n",
       "      <th>2018-02-27 05:16:00</th>\n",
       "      <td>276</td>\n",
       "      <td>{RT @LivouMcoin: airdrop 5,000 LIVO/ETH addres...</td>\n",
       "    </tr>\n",
       "    <tr>\n",
       "      <th>2018-02-27 05:18:00</th>\n",
       "      <td>265</td>\n",
       "      <td>{RT @maxkeiser: Poloniex deal signals “all cle...</td>\n",
       "    </tr>\n",
       "    <tr>\n",
       "      <th>2018-02-27 05:20:00</th>\n",
       "      <td>281</td>\n",
       "      <td>{Tech: Criminals are reportedly abducting the ...</td>\n",
       "    </tr>\n",
       "    <tr>\n",
       "      <th>2018-02-27 05:22:00</th>\n",
       "      <td>340</td>\n",
       "      <td>{RT @VentureCoinist: $BTC fractal comparing th...</td>\n",
       "    </tr>\n",
       "    <tr>\n",
       "      <th>2018-02-27 05:24:00</th>\n",
       "      <td>290</td>\n",
       "      <td>{⚠ ICO PRE-SALE: 40% BONUS ⚠\\n\\nSERENITY: The ...</td>\n",
       "    </tr>\n",
       "    <tr>\n",
       "      <th>2018-02-27 05:26:00</th>\n",
       "      <td>275</td>\n",
       "      <td>{RT @BitcoinWSpectrm: AIRDROP ALERT\\nWe are gi...</td>\n",
       "    </tr>\n",
       "    <tr>\n",
       "      <th>2018-02-27 05:28:00</th>\n",
       "      <td>238</td>\n",
       "      <td>{RT @DocumentTailor: Want to learn more about ...</td>\n",
       "    </tr>\n",
       "    <tr>\n",
       "      <th>2018-02-27 05:30:00</th>\n",
       "      <td>269</td>\n",
       "      <td>{Cryptocurrency News Today: Bitcoin (BTC), Lit...</td>\n",
       "    </tr>\n",
       "    <tr>\n",
       "      <th>2018-02-27 05:32:00</th>\n",
       "      <td>267</td>\n",
       "      <td>{I liked a @YouTube video https://t.co/LWR7rcS...</td>\n",
       "    </tr>\n",
       "    <tr>\n",
       "      <th>2018-02-27 05:34:00</th>\n",
       "      <td>296</td>\n",
       "      <td>{RT @TCS_biz: #TriForce Tokens (FORCE) is empo...</td>\n",
       "    </tr>\n",
       "    <tr>\n",
       "      <th>2018-02-27 05:36:00</th>\n",
       "      <td>329</td>\n",
       "      <td>{“Remember there’s no such thing as a small ac...</td>\n",
       "    </tr>\n",
       "    <tr>\n",
       "      <th>2018-02-27 05:38:00</th>\n",
       "      <td>322</td>\n",
       "      <td>{RT @iP2PGlobalTWQ: Ladies &amp;amp; Gents,\\nIntro...</td>\n",
       "    </tr>\n",
       "    <tr>\n",
       "      <th>2018-02-27 05:40:00</th>\n",
       "      <td>296</td>\n",
       "      <td>{RT @BTCTN: Bitfract by Shapeshift Lets You Sw...</td>\n",
       "    </tr>\n",
       "    <tr>\n",
       "      <th>2018-02-27 05:42:00</th>\n",
       "      <td>242</td>\n",
       "      <td>{RT @bitcoin_token: #BTK community earn now wi...</td>\n",
       "    </tr>\n",
       "    <tr>\n",
       "      <th>2018-02-27 05:44:00</th>\n",
       "      <td>330</td>\n",
       "      <td>{50 Cent admits he isn't a bitcoin millionaire...</td>\n",
       "    </tr>\n",
       "    <tr>\n",
       "      <th>2018-02-27 05:46:00</th>\n",
       "      <td>302</td>\n",
       "      <td>{RT @Vindyne8: #Syscoin added 6 new developers...</td>\n",
       "    </tr>\n",
       "    <tr>\n",
       "      <th>2018-02-27 05:48:00</th>\n",
       "      <td>262</td>\n",
       "      <td>{RT @rainbownetworkc: Rainbow Network Coin Air...</td>\n",
       "    </tr>\n",
       "    <tr>\n",
       "      <th>2018-02-27 05:50:00</th>\n",
       "      <td>209</td>\n",
       "      <td>{RT @ODEM_IO: Democratizing access to #educati...</td>\n",
       "    </tr>\n",
       "    <tr>\n",
       "      <th>2018-02-27 05:52:00</th>\n",
       "      <td>295</td>\n",
       "      <td>{Organizations looking to use #blockchain for ...</td>\n",
       "    </tr>\n",
       "    <tr>\n",
       "      <th>2018-02-27 05:54:00</th>\n",
       "      <td>267</td>\n",
       "      <td>{Only 1 day left! Pitch https://t.co/4dvbZRYD8...</td>\n",
       "    </tr>\n",
       "    <tr>\n",
       "      <th>2018-02-27 05:56:00</th>\n",
       "      <td>259</td>\n",
       "      <td>{RT @LiteCoinW: Thank You @ForkDelta for listi...</td>\n",
       "    </tr>\n",
       "    <tr>\n",
       "      <th>2018-02-27 05:58:00</th>\n",
       "      <td>267</td>\n",
       "      <td>{RT @SilecraftYT: 🍏$DVRS Giveaway UPDATE 🍏\\nI ...</td>\n",
       "    </tr>\n",
       "    <tr>\n",
       "      <th>2018-02-27 06:00:00</th>\n",
       "      <td>320</td>\n",
       "      <td>{$ETH: $879 USD @FunkenOlli\\nYour stats for Li...</td>\n",
       "    </tr>\n",
       "    <tr>\n",
       "      <th>2018-02-27 06:02:00</th>\n",
       "      <td>338</td>\n",
       "      <td>{RT @RewardToken: #RewardCoin Giveaway still o...</td>\n",
       "    </tr>\n",
       "    <tr>\n",
       "      <th>2018-02-27 06:04:00</th>\n",
       "      <td>337</td>\n",
       "      <td>{@cardstack believes that for blockchain to ha...</td>\n",
       "    </tr>\n",
       "    <tr>\n",
       "      <th>...</th>\n",
       "      <td>...</td>\n",
       "      <td>...</td>\n",
       "    </tr>\n",
       "    <tr>\n",
       "      <th>2018-03-03 07:44:00</th>\n",
       "      <td>344</td>\n",
       "      <td>{RT @OpenPlatformICO: Circle acquires cryptocu...</td>\n",
       "    </tr>\n",
       "    <tr>\n",
       "      <th>2018-03-03 07:46:00</th>\n",
       "      <td>336</td>\n",
       "      <td>{RT @OfficalCR7Coin: In case you missed it, we...</td>\n",
       "    </tr>\n",
       "    <tr>\n",
       "      <th>2018-03-03 07:48:00</th>\n",
       "      <td>358</td>\n",
       "      <td>{RT @jonmagnussonof: Always a Rebel EP - Now a...</td>\n",
       "    </tr>\n",
       "    <tr>\n",
       "      <th>2018-03-03 07:50:00</th>\n",
       "      <td>401</td>\n",
       "      <td>{RT @JoshOG: Crypto hype making it hard to get...</td>\n",
       "    </tr>\n",
       "    <tr>\n",
       "      <th>2018-03-03 07:52:00</th>\n",
       "      <td>430</td>\n",
       "      <td>{RT @mvasey: How the internet of things helps ...</td>\n",
       "    </tr>\n",
       "    <tr>\n",
       "      <th>2018-03-03 07:54:00</th>\n",
       "      <td>424</td>\n",
       "      <td>{When will be announced listing on @kucoincom ...</td>\n",
       "    </tr>\n",
       "    <tr>\n",
       "      <th>2018-03-03 07:56:00</th>\n",
       "      <td>396</td>\n",
       "      <td>{RT @redbuxico: Want to Learn More about #redB...</td>\n",
       "    </tr>\n",
       "    <tr>\n",
       "      <th>2018-03-03 07:58:00</th>\n",
       "      <td>366</td>\n",
       "      <td>{RT @CremeDeLaCrypto: Wow, somewhere along the...</td>\n",
       "    </tr>\n",
       "    <tr>\n",
       "      <th>2018-03-03 08:00:00</th>\n",
       "      <td>429</td>\n",
       "      <td>{RT @bethereumteam: Our transparent and easy-t...</td>\n",
       "    </tr>\n",
       "    <tr>\n",
       "      <th>2018-03-03 08:02:00</th>\n",
       "      <td>420</td>\n",
       "      <td>{Two Bullish Signs For Bitcoin https://t.co/dz...</td>\n",
       "    </tr>\n",
       "    <tr>\n",
       "      <th>2018-03-03 08:04:00</th>\n",
       "      <td>397</td>\n",
       "      <td>{RT @Farmcoin_FARM: #airdrop #cryptocurrency #...</td>\n",
       "    </tr>\n",
       "    <tr>\n",
       "      <th>2018-03-03 08:06:00</th>\n",
       "      <td>398</td>\n",
       "      <td>{RT @covesting: COVESTING has been mentioned i...</td>\n",
       "    </tr>\n",
       "    <tr>\n",
       "      <th>2018-03-03 08:08:00</th>\n",
       "      <td>392</td>\n",
       "      <td>{Read here about one of my favorite ICO's - IP...</td>\n",
       "    </tr>\n",
       "    <tr>\n",
       "      <th>2018-03-03 08:10:00</th>\n",
       "      <td>359</td>\n",
       "      <td>{RT @bethereumteam: Today we are presenting Be...</td>\n",
       "    </tr>\n",
       "    <tr>\n",
       "      <th>2018-03-03 08:12:00</th>\n",
       "      <td>349</td>\n",
       "      <td>{Sign up to win mountains of free #cryptocurre...</td>\n",
       "    </tr>\n",
       "    <tr>\n",
       "      <th>2018-03-03 08:14:00</th>\n",
       "      <td>368</td>\n",
       "      <td>{RT @bethereumteam: We are proud to be on the ...</td>\n",
       "    </tr>\n",
       "    <tr>\n",
       "      <th>2018-03-03 08:16:00</th>\n",
       "      <td>388</td>\n",
       "      <td>{RT @connectjobfd: Regulations: #Crypto Blocks...</td>\n",
       "    </tr>\n",
       "    <tr>\n",
       "      <th>2018-03-03 08:18:00</th>\n",
       "      <td>474</td>\n",
       "      <td>{RT @bethereumteam: Have you read our review a...</td>\n",
       "    </tr>\n",
       "    <tr>\n",
       "      <th>2018-03-03 08:20:00</th>\n",
       "      <td>437</td>\n",
       "      <td>{TOKENLOAN AIRDROP llll➤TOKENLOAN is airdroppi...</td>\n",
       "    </tr>\n",
       "    <tr>\n",
       "      <th>2018-03-03 08:22:00</th>\n",
       "      <td>443</td>\n",
       "      <td>{RT @SachinLulla: Minimalist #MachineLearning'...</td>\n",
       "    </tr>\n",
       "    <tr>\n",
       "      <th>2018-03-03 08:24:00</th>\n",
       "      <td>416</td>\n",
       "      <td>{Come to join a good project\\nPumpkin Pay —is ...</td>\n",
       "    </tr>\n",
       "    <tr>\n",
       "      <th>2018-03-03 08:26:00</th>\n",
       "      <td>388</td>\n",
       "      <td>{RT @savedroidAG: 🔥 Rated 4.7 of 5 on ICO Toke...</td>\n",
       "    </tr>\n",
       "    <tr>\n",
       "      <th>2018-03-03 08:28:00</th>\n",
       "      <td>445</td>\n",
       "      <td>{i belive you https://t.co/zA5DvOf64S Binance ...</td>\n",
       "    </tr>\n",
       "    <tr>\n",
       "      <th>2018-03-03 08:30:00</th>\n",
       "      <td>465</td>\n",
       "      <td>{Hey! I want to show you one interesting proje...</td>\n",
       "    </tr>\n",
       "    <tr>\n",
       "      <th>2018-03-03 08:32:00</th>\n",
       "      <td>398</td>\n",
       "      <td>{RT @SKYFchain: SKYFchain Pre-ICO is ON!\\n\\nNo...</td>\n",
       "    </tr>\n",
       "    <tr>\n",
       "      <th>2018-03-03 08:34:00</th>\n",
       "      <td>394</td>\n",
       "      <td>{#IPSX is the best choice for investment. The ...</td>\n",
       "    </tr>\n",
       "    <tr>\n",
       "      <th>2018-03-03 08:36:00</th>\n",
       "      <td>336</td>\n",
       "      <td>{RT @WRJumpIn: Interview with @WRJumpIn CEO/Fo...</td>\n",
       "    </tr>\n",
       "    <tr>\n",
       "      <th>2018-03-03 08:38:00</th>\n",
       "      <td>370</td>\n",
       "      <td>{RT @cryptotraderxrp: Just like Netflix revolu...</td>\n",
       "    </tr>\n",
       "    <tr>\n",
       "      <th>2018-03-03 08:40:00</th>\n",
       "      <td>467</td>\n",
       "      <td>{$ETH: $860 USD “A massive shift in power”\\nht...</td>\n",
       "    </tr>\n",
       "    <tr>\n",
       "      <th>2018-03-03 08:42:00</th>\n",
       "      <td>157</td>\n",
       "      <td>{RT @HTML_Giant: Fud has cleared, $HTML still ...</td>\n",
       "    </tr>\n",
       "  </tbody>\n",
       "</table>\n",
       "<p>2989 rows × 2 columns</p>\n",
       "</div>"
      ],
      "text/plain": [
       "                     retweet_counts  \\\n",
       "created_at                            \n",
       "2018-02-27 05:06:00             285   \n",
       "2018-02-27 05:08:00             280   \n",
       "2018-02-27 05:10:00             312   \n",
       "2018-02-27 05:12:00             280   \n",
       "2018-02-27 05:14:00             317   \n",
       "2018-02-27 05:16:00             276   \n",
       "2018-02-27 05:18:00             265   \n",
       "2018-02-27 05:20:00             281   \n",
       "2018-02-27 05:22:00             340   \n",
       "2018-02-27 05:24:00             290   \n",
       "2018-02-27 05:26:00             275   \n",
       "2018-02-27 05:28:00             238   \n",
       "2018-02-27 05:30:00             269   \n",
       "2018-02-27 05:32:00             267   \n",
       "2018-02-27 05:34:00             296   \n",
       "2018-02-27 05:36:00             329   \n",
       "2018-02-27 05:38:00             322   \n",
       "2018-02-27 05:40:00             296   \n",
       "2018-02-27 05:42:00             242   \n",
       "2018-02-27 05:44:00             330   \n",
       "2018-02-27 05:46:00             302   \n",
       "2018-02-27 05:48:00             262   \n",
       "2018-02-27 05:50:00             209   \n",
       "2018-02-27 05:52:00             295   \n",
       "2018-02-27 05:54:00             267   \n",
       "2018-02-27 05:56:00             259   \n",
       "2018-02-27 05:58:00             267   \n",
       "2018-02-27 06:00:00             320   \n",
       "2018-02-27 06:02:00             338   \n",
       "2018-02-27 06:04:00             337   \n",
       "...                             ...   \n",
       "2018-03-03 07:44:00             344   \n",
       "2018-03-03 07:46:00             336   \n",
       "2018-03-03 07:48:00             358   \n",
       "2018-03-03 07:50:00             401   \n",
       "2018-03-03 07:52:00             430   \n",
       "2018-03-03 07:54:00             424   \n",
       "2018-03-03 07:56:00             396   \n",
       "2018-03-03 07:58:00             366   \n",
       "2018-03-03 08:00:00             429   \n",
       "2018-03-03 08:02:00             420   \n",
       "2018-03-03 08:04:00             397   \n",
       "2018-03-03 08:06:00             398   \n",
       "2018-03-03 08:08:00             392   \n",
       "2018-03-03 08:10:00             359   \n",
       "2018-03-03 08:12:00             349   \n",
       "2018-03-03 08:14:00             368   \n",
       "2018-03-03 08:16:00             388   \n",
       "2018-03-03 08:18:00             474   \n",
       "2018-03-03 08:20:00             437   \n",
       "2018-03-03 08:22:00             443   \n",
       "2018-03-03 08:24:00             416   \n",
       "2018-03-03 08:26:00             388   \n",
       "2018-03-03 08:28:00             445   \n",
       "2018-03-03 08:30:00             465   \n",
       "2018-03-03 08:32:00             398   \n",
       "2018-03-03 08:34:00             394   \n",
       "2018-03-03 08:36:00             336   \n",
       "2018-03-03 08:38:00             370   \n",
       "2018-03-03 08:40:00             467   \n",
       "2018-03-03 08:42:00             157   \n",
       "\n",
       "                                                                  text  \n",
       "created_at                                                              \n",
       "2018-02-27 05:06:00  {BITCOIN! Gold Plated Physical Bitcoin Collect...  \n",
       "2018-02-27 05:08:00  {RT @MalwareJake: Dear web developers,\\nThe an...  \n",
       "2018-02-27 05:10:00  {@Crypto_Bossman My favorite cryptocurrency ex...  \n",
       "2018-02-27 05:12:00  {I should have asked @VitalikButerin why use E...  \n",
       "2018-02-27 05:14:00  {RT @ViceToken: Why Watch Porn for Free, when ...  \n",
       "2018-02-27 05:16:00  {RT @LivouMcoin: airdrop 5,000 LIVO/ETH addres...  \n",
       "2018-02-27 05:18:00  {RT @maxkeiser: Poloniex deal signals “all cle...  \n",
       "2018-02-27 05:20:00  {Tech: Criminals are reportedly abducting the ...  \n",
       "2018-02-27 05:22:00  {RT @VentureCoinist: $BTC fractal comparing th...  \n",
       "2018-02-27 05:24:00  {⚠ ICO PRE-SALE: 40% BONUS ⚠\\n\\nSERENITY: The ...  \n",
       "2018-02-27 05:26:00  {RT @BitcoinWSpectrm: AIRDROP ALERT\\nWe are gi...  \n",
       "2018-02-27 05:28:00  {RT @DocumentTailor: Want to learn more about ...  \n",
       "2018-02-27 05:30:00  {Cryptocurrency News Today: Bitcoin (BTC), Lit...  \n",
       "2018-02-27 05:32:00  {I liked a @YouTube video https://t.co/LWR7rcS...  \n",
       "2018-02-27 05:34:00  {RT @TCS_biz: #TriForce Tokens (FORCE) is empo...  \n",
       "2018-02-27 05:36:00  {“Remember there’s no such thing as a small ac...  \n",
       "2018-02-27 05:38:00  {RT @iP2PGlobalTWQ: Ladies &amp; Gents,\\nIntro...  \n",
       "2018-02-27 05:40:00  {RT @BTCTN: Bitfract by Shapeshift Lets You Sw...  \n",
       "2018-02-27 05:42:00  {RT @bitcoin_token: #BTK community earn now wi...  \n",
       "2018-02-27 05:44:00  {50 Cent admits he isn't a bitcoin millionaire...  \n",
       "2018-02-27 05:46:00  {RT @Vindyne8: #Syscoin added 6 new developers...  \n",
       "2018-02-27 05:48:00  {RT @rainbownetworkc: Rainbow Network Coin Air...  \n",
       "2018-02-27 05:50:00  {RT @ODEM_IO: Democratizing access to #educati...  \n",
       "2018-02-27 05:52:00  {Organizations looking to use #blockchain for ...  \n",
       "2018-02-27 05:54:00  {Only 1 day left! Pitch https://t.co/4dvbZRYD8...  \n",
       "2018-02-27 05:56:00  {RT @LiteCoinW: Thank You @ForkDelta for listi...  \n",
       "2018-02-27 05:58:00  {RT @SilecraftYT: 🍏$DVRS Giveaway UPDATE 🍏\\nI ...  \n",
       "2018-02-27 06:00:00  {$ETH: $879 USD @FunkenOlli\\nYour stats for Li...  \n",
       "2018-02-27 06:02:00  {RT @RewardToken: #RewardCoin Giveaway still o...  \n",
       "2018-02-27 06:04:00  {@cardstack believes that for blockchain to ha...  \n",
       "...                                                                ...  \n",
       "2018-03-03 07:44:00  {RT @OpenPlatformICO: Circle acquires cryptocu...  \n",
       "2018-03-03 07:46:00  {RT @OfficalCR7Coin: In case you missed it, we...  \n",
       "2018-03-03 07:48:00  {RT @jonmagnussonof: Always a Rebel EP - Now a...  \n",
       "2018-03-03 07:50:00  {RT @JoshOG: Crypto hype making it hard to get...  \n",
       "2018-03-03 07:52:00  {RT @mvasey: How the internet of things helps ...  \n",
       "2018-03-03 07:54:00  {When will be announced listing on @kucoincom ...  \n",
       "2018-03-03 07:56:00  {RT @redbuxico: Want to Learn More about #redB...  \n",
       "2018-03-03 07:58:00  {RT @CremeDeLaCrypto: Wow, somewhere along the...  \n",
       "2018-03-03 08:00:00  {RT @bethereumteam: Our transparent and easy-t...  \n",
       "2018-03-03 08:02:00  {Two Bullish Signs For Bitcoin https://t.co/dz...  \n",
       "2018-03-03 08:04:00  {RT @Farmcoin_FARM: #airdrop #cryptocurrency #...  \n",
       "2018-03-03 08:06:00  {RT @covesting: COVESTING has been mentioned i...  \n",
       "2018-03-03 08:08:00  {Read here about one of my favorite ICO's - IP...  \n",
       "2018-03-03 08:10:00  {RT @bethereumteam: Today we are presenting Be...  \n",
       "2018-03-03 08:12:00  {Sign up to win mountains of free #cryptocurre...  \n",
       "2018-03-03 08:14:00  {RT @bethereumteam: We are proud to be on the ...  \n",
       "2018-03-03 08:16:00  {RT @connectjobfd: Regulations: #Crypto Blocks...  \n",
       "2018-03-03 08:18:00  {RT @bethereumteam: Have you read our review a...  \n",
       "2018-03-03 08:20:00  {TOKENLOAN AIRDROP llll➤TOKENLOAN is airdroppi...  \n",
       "2018-03-03 08:22:00  {RT @SachinLulla: Minimalist #MachineLearning'...  \n",
       "2018-03-03 08:24:00  {Come to join a good project\\nPumpkin Pay —is ...  \n",
       "2018-03-03 08:26:00  {RT @savedroidAG: 🔥 Rated 4.7 of 5 on ICO Toke...  \n",
       "2018-03-03 08:28:00  {i belive you https://t.co/zA5DvOf64S Binance ...  \n",
       "2018-03-03 08:30:00  {Hey! I want to show you one interesting proje...  \n",
       "2018-03-03 08:32:00  {RT @SKYFchain: SKYFchain Pre-ICO is ON!\\n\\nNo...  \n",
       "2018-03-03 08:34:00  {#IPSX is the best choice for investment. The ...  \n",
       "2018-03-03 08:36:00  {RT @WRJumpIn: Interview with @WRJumpIn CEO/Fo...  \n",
       "2018-03-03 08:38:00  {RT @cryptotraderxrp: Just like Netflix revolu...  \n",
       "2018-03-03 08:40:00  {$ETH: $860 USD “A massive shift in power”\\nht...  \n",
       "2018-03-03 08:42:00  {RT @HTML_Giant: Fud has cleared, $HTML still ...  \n",
       "\n",
       "[2989 rows x 2 columns]"
      ]
     },
     "execution_count": 22,
     "metadata": {},
     "output_type": "execute_result"
    }
   ],
   "source": [
    "text_df"
   ]
  },
  {
   "cell_type": "code",
   "execution_count": 23,
   "metadata": {
    "collapsed": true
   },
   "outputs": [],
   "source": [
    "text_df =text_df.reset_index()\n",
    "text_df2 =text_df2.reset_index()"
   ]
  },
  {
   "cell_type": "code",
   "execution_count": 24,
   "metadata": {
    "collapsed": true
   },
   "outputs": [],
   "source": [
    "# text_df=text_df.drop(['favorite_count'], axis=1)\n",
    "# text_df2=text_df2.drop(['favorite_count'], axis=1)"
   ]
  },
  {
   "cell_type": "code",
   "execution_count": 27,
   "metadata": {},
   "outputs": [
    {
     "data": {
      "text/html": [
       "<div>\n",
       "<style>\n",
       "    .dataframe thead tr:only-child th {\n",
       "        text-align: right;\n",
       "    }\n",
       "\n",
       "    .dataframe thead th {\n",
       "        text-align: left;\n",
       "    }\n",
       "\n",
       "    .dataframe tbody tr th {\n",
       "        vertical-align: top;\n",
       "    }\n",
       "</style>\n",
       "<table border=\"1\" class=\"dataframe\">\n",
       "  <thead>\n",
       "    <tr style=\"text-align: right;\">\n",
       "      <th></th>\n",
       "      <th>created_at</th>\n",
       "      <th>retweet_counts</th>\n",
       "      <th>text</th>\n",
       "    </tr>\n",
       "  </thead>\n",
       "  <tbody>\n",
       "    <tr>\n",
       "      <th>0</th>\n",
       "      <td>2018-02-27 05:06:00</td>\n",
       "      <td>285</td>\n",
       "      <td>{BITCOIN! Gold Plated Physical Bitcoin Collect...</td>\n",
       "    </tr>\n",
       "    <tr>\n",
       "      <th>1</th>\n",
       "      <td>2018-02-27 05:08:00</td>\n",
       "      <td>280</td>\n",
       "      <td>{RT @MalwareJake: Dear web developers,\\nThe an...</td>\n",
       "    </tr>\n",
       "    <tr>\n",
       "      <th>2</th>\n",
       "      <td>2018-02-27 05:10:00</td>\n",
       "      <td>312</td>\n",
       "      <td>{@Crypto_Bossman My favorite cryptocurrency ex...</td>\n",
       "    </tr>\n",
       "    <tr>\n",
       "      <th>3</th>\n",
       "      <td>2018-02-27 05:12:00</td>\n",
       "      <td>280</td>\n",
       "      <td>{I should have asked @VitalikButerin why use E...</td>\n",
       "    </tr>\n",
       "    <tr>\n",
       "      <th>4</th>\n",
       "      <td>2018-02-27 05:14:00</td>\n",
       "      <td>317</td>\n",
       "      <td>{RT @ViceToken: Why Watch Porn for Free, when ...</td>\n",
       "    </tr>\n",
       "  </tbody>\n",
       "</table>\n",
       "</div>"
      ],
      "text/plain": [
       "           created_at  retweet_counts  \\\n",
       "0 2018-02-27 05:06:00             285   \n",
       "1 2018-02-27 05:08:00             280   \n",
       "2 2018-02-27 05:10:00             312   \n",
       "3 2018-02-27 05:12:00             280   \n",
       "4 2018-02-27 05:14:00             317   \n",
       "\n",
       "                                                text  \n",
       "0  {BITCOIN! Gold Plated Physical Bitcoin Collect...  \n",
       "1  {RT @MalwareJake: Dear web developers,\\nThe an...  \n",
       "2  {@Crypto_Bossman My favorite cryptocurrency ex...  \n",
       "3  {I should have asked @VitalikButerin why use E...  \n",
       "4  {RT @ViceToken: Why Watch Porn for Free, when ...  "
      ]
     },
     "execution_count": 27,
     "metadata": {},
     "output_type": "execute_result"
    }
   ],
   "source": [
    "# newdf.get_group(\"2018-02-27 05:06:00\")\n",
    "text_df.head()"
   ]
  },
  {
   "cell_type": "code",
   "execution_count": 28,
   "metadata": {},
   "outputs": [
    {
     "data": {
      "text/html": [
       "<div>\n",
       "<style>\n",
       "    .dataframe thead tr:only-child th {\n",
       "        text-align: right;\n",
       "    }\n",
       "\n",
       "    .dataframe thead th {\n",
       "        text-align: left;\n",
       "    }\n",
       "\n",
       "    .dataframe tbody tr th {\n",
       "        vertical-align: top;\n",
       "    }\n",
       "</style>\n",
       "<table border=\"1\" class=\"dataframe\">\n",
       "  <thead>\n",
       "    <tr style=\"text-align: right;\">\n",
       "      <th></th>\n",
       "      <th>created_at</th>\n",
       "      <th>retweet_counts</th>\n",
       "      <th>text</th>\n",
       "    </tr>\n",
       "  </thead>\n",
       "  <tbody>\n",
       "    <tr>\n",
       "      <th>0</th>\n",
       "      <td>2018-02-27 05:05:00</td>\n",
       "      <td>565</td>\n",
       "      <td>{BITCOIN! Gold Plated Physical Bitcoin Collect...</td>\n",
       "    </tr>\n",
       "    <tr>\n",
       "      <th>1</th>\n",
       "      <td>2018-02-27 05:10:00</td>\n",
       "      <td>768</td>\n",
       "      <td>{@Crypto_Bossman My favorite cryptocurrency ex...</td>\n",
       "    </tr>\n",
       "    <tr>\n",
       "      <th>2</th>\n",
       "      <td>2018-02-27 05:15:00</td>\n",
       "      <td>682</td>\n",
       "      <td>{RT @DocumentTailor: As the countdown continue...</td>\n",
       "    </tr>\n",
       "    <tr>\n",
       "      <th>3</th>\n",
       "      <td>2018-02-27 05:20:00</td>\n",
       "      <td>768</td>\n",
       "      <td>{Tech: Criminals are reportedly abducting the ...</td>\n",
       "    </tr>\n",
       "    <tr>\n",
       "      <th>4</th>\n",
       "      <td>2018-02-27 05:25:00</td>\n",
       "      <td>656</td>\n",
       "      <td>{@WandoViper Our $PRL luxuriousstar signal  di...</td>\n",
       "    </tr>\n",
       "  </tbody>\n",
       "</table>\n",
       "</div>"
      ],
      "text/plain": [
       "           created_at  retweet_counts  \\\n",
       "0 2018-02-27 05:05:00             565   \n",
       "1 2018-02-27 05:10:00             768   \n",
       "2 2018-02-27 05:15:00             682   \n",
       "3 2018-02-27 05:20:00             768   \n",
       "4 2018-02-27 05:25:00             656   \n",
       "\n",
       "                                                text  \n",
       "0  {BITCOIN! Gold Plated Physical Bitcoin Collect...  \n",
       "1  {@Crypto_Bossman My favorite cryptocurrency ex...  \n",
       "2  {RT @DocumentTailor: As the countdown continue...  \n",
       "3  {Tech: Criminals are reportedly abducting the ...  \n",
       "4  {@WandoViper Our $PRL luxuriousstar signal  di...  "
      ]
     },
     "execution_count": 28,
     "metadata": {},
     "output_type": "execute_result"
    }
   ],
   "source": [
    "text_df2.head()"
   ]
  },
  {
   "cell_type": "code",
   "execution_count": 35,
   "metadata": {
    "collapsed": true
   },
   "outputs": [],
   "source": [
    "text_df.to_msgpack(\"full_DataFrame/combined_data/master/grouped_text_2min.msg\")\n",
    "text_df2.to_msgpack(\"full_DataFrame/combined_data/master/grouped_text_5min.msg\")"
   ]
  },
  {
   "cell_type": "code",
   "execution_count": 36,
   "metadata": {
    "collapsed": true
   },
   "outputs": [],
   "source": [
    "import re\n",
    "from textblob import TextBlob"
   ]
  },
  {
   "cell_type": "code",
   "execution_count": 37,
   "metadata": {
    "collapsed": true
   },
   "outputs": [],
   "source": [
    "def clean_tweet(tweet):\n",
    "    '''\n",
    "    Utility function to clean tweet text by removing links, special characters\n",
    "    using simple regex statements.\n",
    "    '''\n",
    "    return ' '.join(re.sub(\"(@[A-Za-z0-9]+)|([^0-9A-Za-z \\t])|(\\w+:\\/\\/\\S+)\", \" \", tweet).split())\n",
    "\n",
    "def get_tweet_sentiment(tweet):\n",
    "    '''\n",
    "    Utility function to classify sentiment of passed tweet\n",
    "    using textblob's sentiment method\n",
    "    '''\n",
    "    # create TextBlob object of passed tweet text\n",
    "    analysis = TextBlob(clean_tweet(tweet))\n",
    "    # set sentiment\n",
    "#         print(analysis.sentiment.polarity)\n",
    "    return analysis.sentiment.polarity"
   ]
  },
  {
   "cell_type": "code",
   "execution_count": 38,
   "metadata": {
    "collapsed": true
   },
   "outputs": [],
   "source": [
    "tweets = []\n",
    "\n",
    "#         try:\n",
    "# call twitter api to fetch tweets\n",
    "#             fetched_tweets = self.api.search(q = query, count = count)\n",
    "#             print(fetched_tweets)\n",
    "# parsing tweets one by one\n",
    "#             for tweet in fetched_tweets:\n",
    "for i in range(0,len(text_df)):\n",
    "    # empty dictionary to store required params of a tweet\n",
    "    parsed_tweet = {}\n",
    "\n",
    "    # saving text of tweet\n",
    "    parsed_tweet['text'] = text_df['text'][i]\n",
    "    # saving sentiment of tweet\n",
    "    parsed_tweet['sentiment'] = get_tweet_sentiment(parsed_tweet['text'])\n",
    "\n",
    "    # appending parsed tweet to tweets list\n",
    "#                 if tweet.retweet_count > 0:\n",
    "#                     # if tweet has retweets, ensure that it is appended only once\n",
    "#                     if parsed_tweet not in tweets:\n",
    "#                         tweets.append(parsed_tweet)\n",
    "#                 else:\n",
    "#                     tweets.append(parsed_tweet)\n",
    "    tweets.append(parsed_tweet)\n",
    "# return parsed tweets"
   ]
  },
  {
   "cell_type": "code",
   "execution_count": 39,
   "metadata": {},
   "outputs": [
    {
     "name": "stdout",
     "output_type": "stream",
     "text": [
      "Positive tweets percentage: 96.78822348611575 %\n",
      "Negative tweets percentage: 0.06691201070592172 %\n",
      "Neutral tweets percentage: 3.1448645031783204 %\n",
      "0.18907832120598084\n",
      "0.1992014254514255\n",
      "0.1898770243398676\n",
      "0.1940412700904929\n",
      "0.15553662044945726\n",
      "0.1720664334649711\n",
      "0.18568431251288403\n",
      "0.18259780206543444\n",
      "0.19814220876720884\n",
      "0.20113685064935066\n"
     ]
    }
   ],
   "source": [
    "ptweets = [tweet for tweet in tweets if tweet['sentiment'] >0]\n",
    "# percentage of positive tweets\n",
    "print(\"Positive tweets percentage: {} %\".format(100*len(ptweets)/len(tweets)))\n",
    "# picking negative tweets from tweets\n",
    "ntweets = [tweet for tweet in tweets if tweet['sentiment'] < 0]\n",
    "# percentage of negative tweets\n",
    "print(\"Negative tweets percentage: {} %\".format(100*len(ntweets)/len(tweets)))\n",
    "# percentage of neutral tweets\n",
    "print(\"Neutral tweets percentage: {} %\".format(100*(len(tweets) - len(ntweets) - len(ptweets))/len(tweets)))\n",
    "\n",
    "# printing first 5 positive tweets\n",
    "# print(\"\\n\\nPositive tweets:\")\n",
    "# for tweet in ptweets[:10]:\n",
    "#     print(tweet['text'])\n",
    "\n",
    "# printing first 5 negative tweets\n",
    "# print(\"\\n\\nNegative tweets:\")\n",
    "for tweet in tweets[:10]:\n",
    "    print(tweet['sentiment'])"
   ]
  },
  {
   "cell_type": "code",
   "execution_count": 40,
   "metadata": {
    "collapsed": true
   },
   "outputs": [],
   "source": [
    "tweets2 = []\n",
    "\n",
    "#         try:\n",
    "# call twitter api to fetch tweets\n",
    "#             fetched_tweets = self.api.search(q = query, count = count)\n",
    "#             print(fetched_tweets)\n",
    "# parsing tweets one by one\n",
    "#             for tweet in fetched_tweets:\n",
    "for i in range(0,len(text_df2)):\n",
    "    # empty dictionary to store required params of a tweet\n",
    "    parsed_tweet = {}\n",
    "\n",
    "    # saving text of tweet\n",
    "    parsed_tweet['text'] = text_df2['text'][i]\n",
    "    # saving sentiment of tweet\n",
    "    parsed_tweet['sentiment'] = get_tweet_sentiment(parsed_tweet['text'])\n",
    "\n",
    "    # appending parsed tweet to tweets list\n",
    "#                 if tweet.retweet_count > 0:\n",
    "#                     # if tweet has retweets, ensure that it is appended only once\n",
    "#                     if parsed_tweet not in tweets:\n",
    "#                         tweets.append(parsed_tweet)\n",
    "#                 else:\n",
    "#                     tweets.append(parsed_tweet)\n",
    "    tweets2.append(parsed_tweet)\n",
    "# return parsed tweets"
   ]
  },
  {
   "cell_type": "code",
   "execution_count": 41,
   "metadata": {},
   "outputs": [
    {
     "name": "stdout",
     "output_type": "stream",
     "text": [
      "Positive tweets percentage: 38.742054198728674 %\n",
      "Negative tweets percentage: 0.03345600535296086 %\n",
      "Neutral tweets percentage: 61.224489795918366 %\n",
      "0.19392468719409542\n",
      "0.1732009316219838\n",
      "0.18581185782727594\n",
      "0.1911957696498512\n",
      "0.1993975386297766\n",
      "0.1884411022669085\n",
      "0.15009931345810174\n",
      "0.17667774758013524\n",
      "0.18369090701108515\n",
      "0.19492949853271474\n"
     ]
    }
   ],
   "source": [
    "ptweets = [tweet for tweet in tweets2 if tweet['sentiment'] >0]\n",
    "# percentage of positive tweets\n",
    "print(\"Positive tweets percentage: {} %\".format(100*len(ptweets)/len(tweets)))\n",
    "# picking negative tweets from tweets\n",
    "ntweets = [tweet for tweet in tweets2 if tweet['sentiment'] < 0]\n",
    "# percentage of negative tweets\n",
    "print(\"Negative tweets percentage: {} %\".format(100*len(ntweets)/len(tweets)))\n",
    "# percentage of neutral tweets\n",
    "print(\"Neutral tweets percentage: {} %\".format(100*(len(tweets) - len(ntweets) - len(ptweets))/len(tweets)))\n",
    "\n",
    "# printing first 5 positive tweets\n",
    "# print(\"\\n\\nPositive tweets:\")\n",
    "# for tweet in ptweets[:10]:\n",
    "#     print(tweet['text'])\n",
    "\n",
    "# printing first 5 negative tweets\n",
    "# print(\"\\n\\nNegative tweets:\")\n",
    "for tweet in tweets2[:10]:\n",
    "    print(tweet['sentiment'])"
   ]
  },
  {
   "cell_type": "code",
   "execution_count": 42,
   "metadata": {
    "collapsed": true
   },
   "outputs": [],
   "source": [
    "sen = pd.DataFrame(tweets)\n",
    "sen2 = pd.DataFrame(tweets2)"
   ]
  },
  {
   "cell_type": "code",
   "execution_count": 43,
   "metadata": {
    "collapsed": true
   },
   "outputs": [],
   "source": [
    "sen.to_msgpack('full_DataFrame/combined_data/master/sentiment_data_2min.msg')\n",
    "sen2.to_msgpack('full_DataFrame/combined_data/master/sentiment_data_5min.msg')"
   ]
  },
  {
   "cell_type": "code",
   "execution_count": 44,
   "metadata": {
    "scrolled": true
   },
   "outputs": [
    {
     "data": {
      "text/html": [
       "<div>\n",
       "<style>\n",
       "    .dataframe thead tr:only-child th {\n",
       "        text-align: right;\n",
       "    }\n",
       "\n",
       "    .dataframe thead th {\n",
       "        text-align: left;\n",
       "    }\n",
       "\n",
       "    .dataframe tbody tr th {\n",
       "        vertical-align: top;\n",
       "    }\n",
       "</style>\n",
       "<table border=\"1\" class=\"dataframe\">\n",
       "  <thead>\n",
       "    <tr style=\"text-align: right;\">\n",
       "      <th></th>\n",
       "      <th>sentiment</th>\n",
       "      <th>text</th>\n",
       "    </tr>\n",
       "  </thead>\n",
       "  <tbody>\n",
       "    <tr>\n",
       "      <th>0</th>\n",
       "      <td>0.189078</td>\n",
       "      <td>{BITCOIN! Gold Plated Physical Bitcoin Collect...</td>\n",
       "    </tr>\n",
       "    <tr>\n",
       "      <th>1</th>\n",
       "      <td>0.199201</td>\n",
       "      <td>{RT @MalwareJake: Dear web developers,\\nThe an...</td>\n",
       "    </tr>\n",
       "    <tr>\n",
       "      <th>2</th>\n",
       "      <td>0.189877</td>\n",
       "      <td>{@Crypto_Bossman My favorite cryptocurrency ex...</td>\n",
       "    </tr>\n",
       "    <tr>\n",
       "      <th>3</th>\n",
       "      <td>0.194041</td>\n",
       "      <td>{I should have asked @VitalikButerin why use E...</td>\n",
       "    </tr>\n",
       "    <tr>\n",
       "      <th>4</th>\n",
       "      <td>0.155537</td>\n",
       "      <td>{RT @ViceToken: Why Watch Porn for Free, when ...</td>\n",
       "    </tr>\n",
       "  </tbody>\n",
       "</table>\n",
       "</div>"
      ],
      "text/plain": [
       "   sentiment                                               text\n",
       "0   0.189078  {BITCOIN! Gold Plated Physical Bitcoin Collect...\n",
       "1   0.199201  {RT @MalwareJake: Dear web developers,\\nThe an...\n",
       "2   0.189877  {@Crypto_Bossman My favorite cryptocurrency ex...\n",
       "3   0.194041  {I should have asked @VitalikButerin why use E...\n",
       "4   0.155537  {RT @ViceToken: Why Watch Porn for Free, when ..."
      ]
     },
     "execution_count": 44,
     "metadata": {},
     "output_type": "execute_result"
    }
   ],
   "source": [
    "sen.head()"
   ]
  },
  {
   "cell_type": "code",
   "execution_count": 45,
   "metadata": {},
   "outputs": [
    {
     "data": {
      "text/html": [
       "<div>\n",
       "<style>\n",
       "    .dataframe thead tr:only-child th {\n",
       "        text-align: right;\n",
       "    }\n",
       "\n",
       "    .dataframe thead th {\n",
       "        text-align: left;\n",
       "    }\n",
       "\n",
       "    .dataframe tbody tr th {\n",
       "        vertical-align: top;\n",
       "    }\n",
       "</style>\n",
       "<table border=\"1\" class=\"dataframe\">\n",
       "  <thead>\n",
       "    <tr style=\"text-align: right;\">\n",
       "      <th></th>\n",
       "      <th>sentiment</th>\n",
       "      <th>text</th>\n",
       "    </tr>\n",
       "  </thead>\n",
       "  <tbody>\n",
       "    <tr>\n",
       "      <th>0</th>\n",
       "      <td>0.193925</td>\n",
       "      <td>{BITCOIN! Gold Plated Physical Bitcoin Collect...</td>\n",
       "    </tr>\n",
       "    <tr>\n",
       "      <th>1</th>\n",
       "      <td>0.173201</td>\n",
       "      <td>{@Crypto_Bossman My favorite cryptocurrency ex...</td>\n",
       "    </tr>\n",
       "    <tr>\n",
       "      <th>2</th>\n",
       "      <td>0.185812</td>\n",
       "      <td>{RT @DocumentTailor: As the countdown continue...</td>\n",
       "    </tr>\n",
       "    <tr>\n",
       "      <th>3</th>\n",
       "      <td>0.191196</td>\n",
       "      <td>{Tech: Criminals are reportedly abducting the ...</td>\n",
       "    </tr>\n",
       "    <tr>\n",
       "      <th>4</th>\n",
       "      <td>0.199398</td>\n",
       "      <td>{@WandoViper Our $PRL luxuriousstar signal  di...</td>\n",
       "    </tr>\n",
       "  </tbody>\n",
       "</table>\n",
       "</div>"
      ],
      "text/plain": [
       "   sentiment                                               text\n",
       "0   0.193925  {BITCOIN! Gold Plated Physical Bitcoin Collect...\n",
       "1   0.173201  {@Crypto_Bossman My favorite cryptocurrency ex...\n",
       "2   0.185812  {RT @DocumentTailor: As the countdown continue...\n",
       "3   0.191196  {Tech: Criminals are reportedly abducting the ...\n",
       "4   0.199398  {@WandoViper Our $PRL luxuriousstar signal  di..."
      ]
     },
     "execution_count": 45,
     "metadata": {},
     "output_type": "execute_result"
    }
   ],
   "source": [
    "sen2.head()"
   ]
  },
  {
   "cell_type": "code",
   "execution_count": 46,
   "metadata": {},
   "outputs": [
    {
     "data": {
      "text/plain": [
       "created_at\n",
       "2018-02-27 05:06:00    504\n",
       "2018-02-27 05:08:00    513\n",
       "2018-02-27 05:10:00    562\n",
       "2018-02-27 05:12:00    536\n",
       "2018-02-27 05:14:00    573\n",
       "Freq: 2T, dtype: int64"
      ]
     },
     "execution_count": 46,
     "metadata": {},
     "output_type": "execute_result"
    }
   ],
   "source": [
    "group_by_size = masked.groupby(pd.TimeGrouper('2Min')).size()\n",
    "group_by_size2 = masked.groupby(pd.TimeGrouper('5Min')).size()\n",
    "group_by_size.head()"
   ]
  },
  {
   "cell_type": "code",
   "execution_count": 47,
   "metadata": {},
   "outputs": [
    {
     "data": {
      "text/plain": [
       "created_at\n",
       "2018-02-27 05:05:00    1017\n",
       "2018-02-27 05:10:00    1405\n",
       "2018-02-27 05:15:00    1277\n",
       "2018-02-27 05:20:00    1371\n",
       "2018-02-27 05:25:00    1230\n",
       "Freq: 5T, dtype: int64"
      ]
     },
     "execution_count": 47,
     "metadata": {},
     "output_type": "execute_result"
    }
   ],
   "source": [
    "group_by_size2.head()"
   ]
  },
  {
   "cell_type": "code",
   "execution_count": 48,
   "metadata": {
    "collapsed": true
   },
   "outputs": [],
   "source": [
    "tweets_in_group = []\n",
    "for i in range(0, len(group_by_size)):\n",
    "    tweets_in_group.append(group_by_size[i])"
   ]
  },
  {
   "cell_type": "code",
   "execution_count": 49,
   "metadata": {
    "collapsed": true
   },
   "outputs": [],
   "source": [
    "tweets_in_group2 = []\n",
    "for i in range(0, len(group_by_size2)):\n",
    "    tweets_in_group2.append(group_by_size2[i])"
   ]
  },
  {
   "cell_type": "code",
   "execution_count": 50,
   "metadata": {
    "collapsed": true
   },
   "outputs": [],
   "source": [
    "tweets_in_group_df = pd.DataFrame(tweets_in_group, columns =[['no_tweets']])\n",
    "tweets_in_group_df2 = pd.DataFrame(tweets_in_group2, columns =[['no_tweets']])"
   ]
  },
  {
   "cell_type": "code",
   "execution_count": 51,
   "metadata": {},
   "outputs": [
    {
     "data": {
      "text/html": [
       "<div>\n",
       "<style>\n",
       "    .dataframe thead tr:only-child th {\n",
       "        text-align: right;\n",
       "    }\n",
       "\n",
       "    .dataframe thead th {\n",
       "        text-align: left;\n",
       "    }\n",
       "\n",
       "    .dataframe tbody tr th {\n",
       "        vertical-align: top;\n",
       "    }\n",
       "</style>\n",
       "<table border=\"1\" class=\"dataframe\">\n",
       "  <thead>\n",
       "    <tr style=\"text-align: right;\">\n",
       "      <th></th>\n",
       "      <th>created_at</th>\n",
       "      <th>text</th>\n",
       "      <th>sentiment</th>\n",
       "      <th>no_tweets</th>\n",
       "    </tr>\n",
       "  </thead>\n",
       "  <tbody>\n",
       "    <tr>\n",
       "      <th>0</th>\n",
       "      <td>2018-02-27 05:06:00</td>\n",
       "      <td>{BITCOIN! Gold Plated Physical Bitcoin Collect...</td>\n",
       "      <td>0.189078</td>\n",
       "      <td>504</td>\n",
       "    </tr>\n",
       "    <tr>\n",
       "      <th>1</th>\n",
       "      <td>2018-02-27 05:08:00</td>\n",
       "      <td>{RT @MalwareJake: Dear web developers,\\nThe an...</td>\n",
       "      <td>0.199201</td>\n",
       "      <td>513</td>\n",
       "    </tr>\n",
       "    <tr>\n",
       "      <th>2</th>\n",
       "      <td>2018-02-27 05:10:00</td>\n",
       "      <td>{@Crypto_Bossman My favorite cryptocurrency ex...</td>\n",
       "      <td>0.189877</td>\n",
       "      <td>562</td>\n",
       "    </tr>\n",
       "    <tr>\n",
       "      <th>3</th>\n",
       "      <td>2018-02-27 05:12:00</td>\n",
       "      <td>{I should have asked @VitalikButerin why use E...</td>\n",
       "      <td>0.194041</td>\n",
       "      <td>536</td>\n",
       "    </tr>\n",
       "    <tr>\n",
       "      <th>4</th>\n",
       "      <td>2018-02-27 05:14:00</td>\n",
       "      <td>{RT @ViceToken: Why Watch Porn for Free, when ...</td>\n",
       "      <td>0.155537</td>\n",
       "      <td>573</td>\n",
       "    </tr>\n",
       "  </tbody>\n",
       "</table>\n",
       "</div>"
      ],
      "text/plain": [
       "           created_at                                               text  \\\n",
       "0 2018-02-27 05:06:00  {BITCOIN! Gold Plated Physical Bitcoin Collect...   \n",
       "1 2018-02-27 05:08:00  {RT @MalwareJake: Dear web developers,\\nThe an...   \n",
       "2 2018-02-27 05:10:00  {@Crypto_Bossman My favorite cryptocurrency ex...   \n",
       "3 2018-02-27 05:12:00  {I should have asked @VitalikButerin why use E...   \n",
       "4 2018-02-27 05:14:00  {RT @ViceToken: Why Watch Porn for Free, when ...   \n",
       "\n",
       "   sentiment  no_tweets  \n",
       "0   0.189078        504  \n",
       "1   0.199201        513  \n",
       "2   0.189877        562  \n",
       "3   0.194041        536  \n",
       "4   0.155537        573  "
      ]
     },
     "execution_count": 51,
     "metadata": {},
     "output_type": "execute_result"
    }
   ],
   "source": [
    "dat1 = text_df[['created_at', 'text']]\n",
    "dat2 = sen[['sentiment']]\n",
    "dat3 = tweets_in_group_df[['no_tweets']]\n",
    "sen_data = dat1.join(dat2).join(dat3)\n",
    "sen_data.head()"
   ]
  },
  {
   "cell_type": "code",
   "execution_count": 52,
   "metadata": {},
   "outputs": [
    {
     "data": {
      "text/html": [
       "<div>\n",
       "<style>\n",
       "    .dataframe thead tr:only-child th {\n",
       "        text-align: right;\n",
       "    }\n",
       "\n",
       "    .dataframe thead th {\n",
       "        text-align: left;\n",
       "    }\n",
       "\n",
       "    .dataframe tbody tr th {\n",
       "        vertical-align: top;\n",
       "    }\n",
       "</style>\n",
       "<table border=\"1\" class=\"dataframe\">\n",
       "  <thead>\n",
       "    <tr style=\"text-align: right;\">\n",
       "      <th></th>\n",
       "      <th>created_at</th>\n",
       "      <th>text</th>\n",
       "      <th>sentiment</th>\n",
       "      <th>no_tweets</th>\n",
       "    </tr>\n",
       "  </thead>\n",
       "  <tbody>\n",
       "    <tr>\n",
       "      <th>0</th>\n",
       "      <td>2018-02-27 05:05:00</td>\n",
       "      <td>{BITCOIN! Gold Plated Physical Bitcoin Collect...</td>\n",
       "      <td>0.193925</td>\n",
       "      <td>1017</td>\n",
       "    </tr>\n",
       "    <tr>\n",
       "      <th>1</th>\n",
       "      <td>2018-02-27 05:10:00</td>\n",
       "      <td>{@Crypto_Bossman My favorite cryptocurrency ex...</td>\n",
       "      <td>0.173201</td>\n",
       "      <td>1405</td>\n",
       "    </tr>\n",
       "    <tr>\n",
       "      <th>2</th>\n",
       "      <td>2018-02-27 05:15:00</td>\n",
       "      <td>{RT @DocumentTailor: As the countdown continue...</td>\n",
       "      <td>0.185812</td>\n",
       "      <td>1277</td>\n",
       "    </tr>\n",
       "    <tr>\n",
       "      <th>3</th>\n",
       "      <td>2018-02-27 05:20:00</td>\n",
       "      <td>{Tech: Criminals are reportedly abducting the ...</td>\n",
       "      <td>0.191196</td>\n",
       "      <td>1371</td>\n",
       "    </tr>\n",
       "    <tr>\n",
       "      <th>4</th>\n",
       "      <td>2018-02-27 05:25:00</td>\n",
       "      <td>{@WandoViper Our $PRL luxuriousstar signal  di...</td>\n",
       "      <td>0.199398</td>\n",
       "      <td>1230</td>\n",
       "    </tr>\n",
       "  </tbody>\n",
       "</table>\n",
       "</div>"
      ],
      "text/plain": [
       "           created_at                                               text  \\\n",
       "0 2018-02-27 05:05:00  {BITCOIN! Gold Plated Physical Bitcoin Collect...   \n",
       "1 2018-02-27 05:10:00  {@Crypto_Bossman My favorite cryptocurrency ex...   \n",
       "2 2018-02-27 05:15:00  {RT @DocumentTailor: As the countdown continue...   \n",
       "3 2018-02-27 05:20:00  {Tech: Criminals are reportedly abducting the ...   \n",
       "4 2018-02-27 05:25:00  {@WandoViper Our $PRL luxuriousstar signal  di...   \n",
       "\n",
       "   sentiment  no_tweets  \n",
       "0   0.193925       1017  \n",
       "1   0.173201       1405  \n",
       "2   0.185812       1277  \n",
       "3   0.191196       1371  \n",
       "4   0.199398       1230  "
      ]
     },
     "execution_count": 52,
     "metadata": {},
     "output_type": "execute_result"
    }
   ],
   "source": [
    "dat1 = text_df2[['created_at', 'text']]\n",
    "dat2 = sen2[['sentiment']]\n",
    "dat3 = tweets_in_group_df2[['no_tweets']]\n",
    "sen_data2 = dat1.join(dat2).join(dat3)\n",
    "sen_data2.head()"
   ]
  },
  {
   "cell_type": "code",
   "execution_count": 29,
   "metadata": {
    "collapsed": true,
    "scrolled": true
   },
   "outputs": [],
   "source": [
    "# sen_data.to_msgpack('full_DataFrame/combined_data/master/sentiment_data_2min.msg')\n",
    "# sen_data2.to_msgpack('full_DataFrame/combined_data/master/sentiment_data_5min.msg')\n",
    "\n",
    "sen_dat = pd.read_msgpack('full_DataFrame/combined_data/master/sentiment_data_2min.msg')\n",
    "sen_data2 = pd.read_msgpack('full_DataFrame/combined_data/master/sentiment_data_5min.msg')"
   ]
  },
  {
   "cell_type": "code",
   "execution_count": 37,
   "metadata": {},
   "outputs": [
    {
     "data": {
      "text/html": [
       "<div>\n",
       "<style>\n",
       "    .dataframe thead tr:only-child th {\n",
       "        text-align: right;\n",
       "    }\n",
       "\n",
       "    .dataframe thead th {\n",
       "        text-align: left;\n",
       "    }\n",
       "\n",
       "    .dataframe tbody tr th {\n",
       "        vertical-align: top;\n",
       "    }\n",
       "</style>\n",
       "<table border=\"1\" class=\"dataframe\">\n",
       "  <thead>\n",
       "    <tr style=\"text-align: right;\">\n",
       "      <th></th>\n",
       "      <th>created_at</th>\n",
       "      <th>retweet_counts</th>\n",
       "      <th>text</th>\n",
       "    </tr>\n",
       "  </thead>\n",
       "  <tbody>\n",
       "    <tr>\n",
       "      <th>0</th>\n",
       "      <td>2018-02-27 05:05:00</td>\n",
       "      <td>565</td>\n",
       "      <td>{BITCOIN! Gold Plated Physical Bitcoin Collect...</td>\n",
       "    </tr>\n",
       "    <tr>\n",
       "      <th>1</th>\n",
       "      <td>2018-02-27 05:10:00</td>\n",
       "      <td>768</td>\n",
       "      <td>{@Crypto_Bossman My favorite cryptocurrency ex...</td>\n",
       "    </tr>\n",
       "    <tr>\n",
       "      <th>2</th>\n",
       "      <td>2018-02-27 05:15:00</td>\n",
       "      <td>682</td>\n",
       "      <td>{RT @DocumentTailor: As the countdown continue...</td>\n",
       "    </tr>\n",
       "    <tr>\n",
       "      <th>3</th>\n",
       "      <td>2018-02-27 05:20:00</td>\n",
       "      <td>768</td>\n",
       "      <td>{Tech: Criminals are reportedly abducting the ...</td>\n",
       "    </tr>\n",
       "    <tr>\n",
       "      <th>4</th>\n",
       "      <td>2018-02-27 05:25:00</td>\n",
       "      <td>656</td>\n",
       "      <td>{@WandoViper Our $PRL luxuriousstar signal  di...</td>\n",
       "    </tr>\n",
       "  </tbody>\n",
       "</table>\n",
       "</div>"
      ],
      "text/plain": [
       "           created_at  retweet_counts  \\\n",
       "0 2018-02-27 05:05:00             565   \n",
       "1 2018-02-27 05:10:00             768   \n",
       "2 2018-02-27 05:15:00             682   \n",
       "3 2018-02-27 05:20:00             768   \n",
       "4 2018-02-27 05:25:00             656   \n",
       "\n",
       "                                                text  \n",
       "0  {BITCOIN! Gold Plated Physical Bitcoin Collect...  \n",
       "1  {@Crypto_Bossman My favorite cryptocurrency ex...  \n",
       "2  {RT @DocumentTailor: As the countdown continue...  \n",
       "3  {Tech: Criminals are reportedly abducting the ...  \n",
       "4  {@WandoViper Our $PRL luxuriousstar signal  di...  "
      ]
     },
     "execution_count": 37,
     "metadata": {},
     "output_type": "execute_result"
    }
   ],
   "source": [
    "text_df2.head()"
   ]
  },
  {
   "cell_type": "code",
   "execution_count": 36,
   "metadata": {
    "scrolled": true
   },
   "outputs": [
    {
     "data": {
      "text/html": [
       "<div>\n",
       "<style>\n",
       "    .dataframe thead tr:only-child th {\n",
       "        text-align: right;\n",
       "    }\n",
       "\n",
       "    .dataframe thead th {\n",
       "        text-align: left;\n",
       "    }\n",
       "\n",
       "    .dataframe tbody tr th {\n",
       "        vertical-align: top;\n",
       "    }\n",
       "</style>\n",
       "<table border=\"1\" class=\"dataframe\">\n",
       "  <thead>\n",
       "    <tr style=\"text-align: right;\">\n",
       "      <th></th>\n",
       "      <th>created_at</th>\n",
       "      <th>sentiment</th>\n",
       "      <th>no_tweets</th>\n",
       "      <th>retweet_counts</th>\n",
       "    </tr>\n",
       "  </thead>\n",
       "  <tbody>\n",
       "    <tr>\n",
       "      <th>0</th>\n",
       "      <td>2018-02-27 05:06:00</td>\n",
       "      <td>0.189078</td>\n",
       "      <td>504</td>\n",
       "      <td>285</td>\n",
       "    </tr>\n",
       "    <tr>\n",
       "      <th>1</th>\n",
       "      <td>2018-02-27 05:08:00</td>\n",
       "      <td>0.199201</td>\n",
       "      <td>513</td>\n",
       "      <td>280</td>\n",
       "    </tr>\n",
       "    <tr>\n",
       "      <th>2</th>\n",
       "      <td>2018-02-27 05:10:00</td>\n",
       "      <td>0.189877</td>\n",
       "      <td>562</td>\n",
       "      <td>312</td>\n",
       "    </tr>\n",
       "    <tr>\n",
       "      <th>3</th>\n",
       "      <td>2018-02-27 05:12:00</td>\n",
       "      <td>0.194041</td>\n",
       "      <td>536</td>\n",
       "      <td>280</td>\n",
       "    </tr>\n",
       "    <tr>\n",
       "      <th>4</th>\n",
       "      <td>2018-02-27 05:14:00</td>\n",
       "      <td>0.155537</td>\n",
       "      <td>573</td>\n",
       "      <td>317</td>\n",
       "    </tr>\n",
       "  </tbody>\n",
       "</table>\n",
       "</div>"
      ],
      "text/plain": [
       "           created_at  sentiment  no_tweets  retweet_counts\n",
       "0 2018-02-27 05:06:00   0.189078        504             285\n",
       "1 2018-02-27 05:08:00   0.199201        513             280\n",
       "2 2018-02-27 05:10:00   0.189877        562             312\n",
       "3 2018-02-27 05:12:00   0.194041        536             280\n",
       "4 2018-02-27 05:14:00   0.155537        573             317"
      ]
     },
     "execution_count": 36,
     "metadata": {},
     "output_type": "execute_result"
    }
   ],
   "source": [
    "# # sen_dat\n",
    "# dat1 = sen_dat[['created_at', 'sentiment', 'no_tweets']]\n",
    "# dat2 = text_df[['retweet_counts']]\n",
    "# # dat3 = users_data_2min[['user_followers_count', 'user_friends_count', 'user_verified', 'no_users']]\n",
    "# data_2min = dat1.join(dat2)\n",
    "# data_2min.to_msgpack('full_DataFrame/combined_data/master/sen_data_without_text_2min.msg')\n",
    "# data_2min.head()"
   ]
  },
  {
   "cell_type": "code",
   "execution_count": 38,
   "metadata": {},
   "outputs": [
    {
     "data": {
      "text/html": [
       "<div>\n",
       "<style>\n",
       "    .dataframe thead tr:only-child th {\n",
       "        text-align: right;\n",
       "    }\n",
       "\n",
       "    .dataframe thead th {\n",
       "        text-align: left;\n",
       "    }\n",
       "\n",
       "    .dataframe tbody tr th {\n",
       "        vertical-align: top;\n",
       "    }\n",
       "</style>\n",
       "<table border=\"1\" class=\"dataframe\">\n",
       "  <thead>\n",
       "    <tr style=\"text-align: right;\">\n",
       "      <th></th>\n",
       "      <th>created_at</th>\n",
       "      <th>sentiment</th>\n",
       "      <th>no_tweets</th>\n",
       "      <th>retweet_counts</th>\n",
       "    </tr>\n",
       "  </thead>\n",
       "  <tbody>\n",
       "    <tr>\n",
       "      <th>0</th>\n",
       "      <td>2018-02-27 05:05:00</td>\n",
       "      <td>0.193925</td>\n",
       "      <td>1017</td>\n",
       "      <td>565</td>\n",
       "    </tr>\n",
       "    <tr>\n",
       "      <th>1</th>\n",
       "      <td>2018-02-27 05:10:00</td>\n",
       "      <td>0.173201</td>\n",
       "      <td>1405</td>\n",
       "      <td>768</td>\n",
       "    </tr>\n",
       "    <tr>\n",
       "      <th>2</th>\n",
       "      <td>2018-02-27 05:15:00</td>\n",
       "      <td>0.185812</td>\n",
       "      <td>1277</td>\n",
       "      <td>682</td>\n",
       "    </tr>\n",
       "    <tr>\n",
       "      <th>3</th>\n",
       "      <td>2018-02-27 05:20:00</td>\n",
       "      <td>0.191196</td>\n",
       "      <td>1371</td>\n",
       "      <td>768</td>\n",
       "    </tr>\n",
       "    <tr>\n",
       "      <th>4</th>\n",
       "      <td>2018-02-27 05:25:00</td>\n",
       "      <td>0.199398</td>\n",
       "      <td>1230</td>\n",
       "      <td>656</td>\n",
       "    </tr>\n",
       "  </tbody>\n",
       "</table>\n",
       "</div>"
      ],
      "text/plain": [
       "           created_at  sentiment  no_tweets  retweet_counts\n",
       "0 2018-02-27 05:05:00   0.193925       1017             565\n",
       "1 2018-02-27 05:10:00   0.173201       1405             768\n",
       "2 2018-02-27 05:15:00   0.185812       1277             682\n",
       "3 2018-02-27 05:20:00   0.191196       1371             768\n",
       "4 2018-02-27 05:25:00   0.199398       1230             656"
      ]
     },
     "execution_count": 38,
     "metadata": {},
     "output_type": "execute_result"
    }
   ],
   "source": [
    "# # sen_dat\n",
    "# dat1 = sen_data2[['created_at', 'sentiment', 'no_tweets']]\n",
    "# dat2 = text_df2[['retweet_counts']]\n",
    "# # dat3 = users_data_2min[['user_followers_count', 'user_friends_count', 'user_verified', 'no_users']]\n",
    "# data_5min = dat1.join(dat2)\n",
    "# data_5min.to_msgpack('full_DataFrame/combined_data/master/sen_data_without_text_5min.msg')\n",
    "# data_5min.head()"
   ]
  },
  {
   "cell_type": "code",
   "execution_count": 54,
   "metadata": {},
   "outputs": [
    {
     "data": {
      "text/html": [
       "<div>\n",
       "<style>\n",
       "    .dataframe thead tr:only-child th {\n",
       "        text-align: right;\n",
       "    }\n",
       "\n",
       "    .dataframe thead th {\n",
       "        text-align: left;\n",
       "    }\n",
       "\n",
       "    .dataframe tbody tr th {\n",
       "        vertical-align: top;\n",
       "    }\n",
       "</style>\n",
       "<table border=\"1\" class=\"dataframe\">\n",
       "  <thead>\n",
       "    <tr style=\"text-align: right;\">\n",
       "      <th></th>\n",
       "      <th>created_at</th>\n",
       "      <th>sentiment</th>\n",
       "      <th>no_tweets</th>\n",
       "    </tr>\n",
       "  </thead>\n",
       "  <tbody>\n",
       "    <tr>\n",
       "      <th>0</th>\n",
       "      <td>2018-02-27 05:06:00</td>\n",
       "      <td>0.189078</td>\n",
       "      <td>504</td>\n",
       "    </tr>\n",
       "    <tr>\n",
       "      <th>1</th>\n",
       "      <td>2018-02-27 05:08:00</td>\n",
       "      <td>0.199201</td>\n",
       "      <td>513</td>\n",
       "    </tr>\n",
       "    <tr>\n",
       "      <th>2</th>\n",
       "      <td>2018-02-27 05:10:00</td>\n",
       "      <td>0.189877</td>\n",
       "      <td>562</td>\n",
       "    </tr>\n",
       "    <tr>\n",
       "      <th>3</th>\n",
       "      <td>2018-02-27 05:12:00</td>\n",
       "      <td>0.194041</td>\n",
       "      <td>536</td>\n",
       "    </tr>\n",
       "    <tr>\n",
       "      <th>4</th>\n",
       "      <td>2018-02-27 05:14:00</td>\n",
       "      <td>0.155537</td>\n",
       "      <td>573</td>\n",
       "    </tr>\n",
       "  </tbody>\n",
       "</table>\n",
       "</div>"
      ],
      "text/plain": [
       "           created_at  sentiment  no_tweets\n",
       "0 2018-02-27 05:06:00   0.189078        504\n",
       "1 2018-02-27 05:08:00   0.199201        513\n",
       "2 2018-02-27 05:10:00   0.189877        562\n",
       "3 2018-02-27 05:12:00   0.194041        536\n",
       "4 2018-02-27 05:14:00   0.155537        573"
      ]
     },
     "execution_count": 54,
     "metadata": {},
     "output_type": "execute_result"
    }
   ],
   "source": [
    "sen_data_without_text = sen_data[['created_at', 'sentiment', 'no_tweets']]\n",
    "sen_data_without_text.head()"
   ]
  },
  {
   "cell_type": "code",
   "execution_count": 55,
   "metadata": {},
   "outputs": [
    {
     "data": {
      "text/html": [
       "<div>\n",
       "<style>\n",
       "    .dataframe thead tr:only-child th {\n",
       "        text-align: right;\n",
       "    }\n",
       "\n",
       "    .dataframe thead th {\n",
       "        text-align: left;\n",
       "    }\n",
       "\n",
       "    .dataframe tbody tr th {\n",
       "        vertical-align: top;\n",
       "    }\n",
       "</style>\n",
       "<table border=\"1\" class=\"dataframe\">\n",
       "  <thead>\n",
       "    <tr style=\"text-align: right;\">\n",
       "      <th></th>\n",
       "      <th>created_at</th>\n",
       "      <th>sentiment</th>\n",
       "      <th>no_tweets</th>\n",
       "    </tr>\n",
       "  </thead>\n",
       "  <tbody>\n",
       "    <tr>\n",
       "      <th>0</th>\n",
       "      <td>2018-02-27 05:05:00</td>\n",
       "      <td>0.193925</td>\n",
       "      <td>1017</td>\n",
       "    </tr>\n",
       "    <tr>\n",
       "      <th>1</th>\n",
       "      <td>2018-02-27 05:10:00</td>\n",
       "      <td>0.173201</td>\n",
       "      <td>1405</td>\n",
       "    </tr>\n",
       "    <tr>\n",
       "      <th>2</th>\n",
       "      <td>2018-02-27 05:15:00</td>\n",
       "      <td>0.185812</td>\n",
       "      <td>1277</td>\n",
       "    </tr>\n",
       "    <tr>\n",
       "      <th>3</th>\n",
       "      <td>2018-02-27 05:20:00</td>\n",
       "      <td>0.191196</td>\n",
       "      <td>1371</td>\n",
       "    </tr>\n",
       "    <tr>\n",
       "      <th>4</th>\n",
       "      <td>2018-02-27 05:25:00</td>\n",
       "      <td>0.199398</td>\n",
       "      <td>1230</td>\n",
       "    </tr>\n",
       "  </tbody>\n",
       "</table>\n",
       "</div>"
      ],
      "text/plain": [
       "           created_at  sentiment  no_tweets\n",
       "0 2018-02-27 05:05:00   0.193925       1017\n",
       "1 2018-02-27 05:10:00   0.173201       1405\n",
       "2 2018-02-27 05:15:00   0.185812       1277\n",
       "3 2018-02-27 05:20:00   0.191196       1371\n",
       "4 2018-02-27 05:25:00   0.199398       1230"
      ]
     },
     "execution_count": 55,
     "metadata": {},
     "output_type": "execute_result"
    }
   ],
   "source": [
    "sen_data_without_text2 = sen_data2[['created_at', 'sentiment', 'no_tweets']]\n",
    "sen_data_without_text2.head()"
   ]
  },
  {
   "cell_type": "code",
   "execution_count": 56,
   "metadata": {
    "collapsed": true
   },
   "outputs": [],
   "source": [
    "sen_data_without_text.to_msgpack('full_DataFrame/combined_data/master/sen_data_without_text_2min.msg')\n",
    "sen_data_without_text2.to_msgpack('full_DataFrame/combined_data/master/sen_data_without_text_5min.msg')"
   ]
  },
  {
   "cell_type": "code",
   "execution_count": null,
   "metadata": {
    "collapsed": true
   },
   "outputs": [],
   "source": []
  }
 ],
 "metadata": {
  "kernelspec": {
   "display_name": "Python 3",
   "language": "python",
   "name": "python3"
  },
  "language_info": {
   "codemirror_mode": {
    "name": "ipython",
    "version": 3
   },
   "file_extension": ".py",
   "mimetype": "text/x-python",
   "name": "python",
   "nbconvert_exporter": "python",
   "pygments_lexer": "ipython3",
   "version": "3.6.2"
  }
 },
 "nbformat": 4,
 "nbformat_minor": 2
}
